{
  "cells": [
    {
      "cell_type": "markdown",
      "metadata": {
        "id": "zJXndgyAOnwd"
      },
      "source": [
        "# SymPy - Symbolic algebra in Python"
      ]
    },
    {
      "cell_type": "markdown",
      "metadata": {
        "id": "zeHK2c6LOnwh"
      },
      "source": [
        "J.R. Johansson (jrjohansson at gmail.com)\n",
        "\n",
        "The latest version of this [IPython notebook](http://ipython.org/notebook.html) lecture is available at [http://github.com/jrjohansson/scientific-python-lectures](http://github.com/jrjohansson/scientific-python-lectures).\n",
        "\n",
        "The other notebooks in this lecture series are indexed at [http://jrjohansson.github.io](http://jrjohansson.github.io)."
      ]
    },
    {
      "cell_type": "code",
      "execution_count": 1,
      "metadata": {
        "id": "kEBSnnJIOnwi"
      },
      "outputs": [],
      "source": [
        "%matplotlib inline\n",
        "import matplotlib.pyplot as plt"
      ]
    },
    {
      "cell_type": "markdown",
      "metadata": {
        "id": "-f2Se1UZOnwj"
      },
      "source": [
        "## Introduction"
      ]
    },
    {
      "cell_type": "markdown",
      "metadata": {
        "id": "LZ3i6KxDOnwk"
      },
      "source": [
        "There are two notable Computer Algebra Systems (CAS) for Python:\n",
        "\n",
        "* [SymPy](http://sympy.org/en/index.html) - A python module that can be used in any Python program, or in an IPython session, that provides powerful CAS features.\n",
        "* [Sage](http://www.sagemath.org/) - Sage is a full-featured and very powerful CAS environment that aims to provide an open source system that competes with Mathematica and Maple. Sage is not a regular Python module, but rather a CAS environment that uses Python as its programming language.\n",
        "\n",
        "Sage is in some aspects more powerful than SymPy, but both offer very comprehensive CAS functionality. The advantage of SymPy is that it is a regular Python module and integrates well with the IPython notebook.\n",
        "\n",
        "In this lecture we will therefore look at how to use SymPy with IPython notebooks. If you are interested in an open source CAS environment I also recommend to read more about Sage.\n",
        "\n",
        "To get started using SymPy in a Python program or notebook, import the module `sympy`:"
      ]
    },
    {
      "cell_type": "code",
      "execution_count": 2,
      "metadata": {
        "id": "pqFob53dOnwk"
      },
      "outputs": [],
      "source": [
        "from sympy import *"
      ]
    },
    {
      "cell_type": "markdown",
      "metadata": {
        "id": "v8n2WHGgOnwk"
      },
      "source": [
        "To get nice-looking $\\LaTeX$ formatted output run:"
      ]
    },
    {
      "cell_type": "code",
      "execution_count": 3,
      "metadata": {
        "id": "91QVYr-oOnwk"
      },
      "outputs": [],
      "source": [
        "init_printing()\n",
        "\n",
        "# or with older versions of sympy/ipython, load the IPython extension\n",
        "#%load_ext sympy.interactive.ipythonprinting\n",
        "# or\n",
        "#%load_ext sympyprinting"
      ]
    },
    {
      "cell_type": "markdown",
      "metadata": {
        "id": "fMrj1WldOnwl"
      },
      "source": [
        "## Symbolic variables"
      ]
    },
    {
      "cell_type": "markdown",
      "metadata": {
        "id": "UX2XMukcOnwl"
      },
      "source": [
        "In SymPy we need to create symbols for the variables we want to work with. We can create a new symbol using the `Symbol` class:"
      ]
    },
    {
      "cell_type": "code",
      "execution_count": 4,
      "metadata": {
        "id": "fxJdD8HnOnwl"
      },
      "outputs": [],
      "source": [
        "x = Symbol('x')"
      ]
    },
    {
      "cell_type": "code",
      "execution_count": 5,
      "metadata": {
        "id": "y25mXk3FOnwl",
        "outputId": "c0424a57-7af1-4279-9985-7e8408f6cda7"
      },
      "outputs": [
        {
          "data": {
            "image/png": "[encoded data removed]",
            "text/latex": [
              "$\\displaystyle \\left(x + \\pi\\right)^{2}$"
            ],
            "text/plain": [
              "       2\n",
              "(x + π) "
            ]
          },
          "execution_count": 5,
          "metadata": {},
          "output_type": "execute_result"
        }
      ],
      "source": [
        "(pi + x)**2"
      ]
    },
    {
      "cell_type": "code",
      "execution_count": 6,
      "metadata": {
        "id": "n0w0_HkROnwm"
      },
      "outputs": [],
      "source": [
        "# alternative way of defining symbols\n",
        "a, b, c = symbols(\"a, b, c\")"
      ]
    },
    {
      "cell_type": "code",
      "execution_count": 7,
      "metadata": {
        "id": "0UdVKRG2Onwm",
        "outputId": "fa5c3273-a440-4aaf-9bfd-c84e1461c4d6"
      },
      "outputs": [
        {
          "data": {
            "text/plain": [
              "sympy.core.symbol.Symbol"
            ]
          },
          "execution_count": 7,
          "metadata": {},
          "output_type": "execute_result"
        }
      ],
      "source": [
        "type(a)"
      ]
    },
    {
      "cell_type": "markdown",
      "metadata": {
        "id": "aaiCzAu3Onwm"
      },
      "source": [
        "We can add assumptions to symbols when we create them:"
      ]
    },
    {
      "cell_type": "code",
      "execution_count": 8,
      "metadata": {
        "id": "kx9mexsnOnwm"
      },
      "outputs": [],
      "source": [
        "x = Symbol('x', real=True)"
      ]
    },
    {
      "cell_type": "code",
      "execution_count": 9,
      "metadata": {
        "id": "3c05oSo4Onwm",
        "outputId": "81aed093-c9d3-44c9-a2cb-25f060a7bc66"
      },
      "outputs": [
        {
          "data": {
            "text/plain": [
              "False"
            ]
          },
          "execution_count": 9,
          "metadata": {},
          "output_type": "execute_result"
        }
      ],
      "source": [
        "x.is_imaginary"
      ]
    },
    {
      "cell_type": "code",
      "execution_count": 10,
      "metadata": {
        "id": "D_n1tH-yOnwm"
      },
      "outputs": [],
      "source": [
        "x = Symbol('x', positive=True)"
      ]
    },
    {
      "cell_type": "code",
      "execution_count": 11,
      "metadata": {
        "id": "ljFfPJnkOnwm",
        "outputId": "f0ec3d3c-cb16-4023-ed47-80fa9d388fa2"
      },
      "outputs": [
        {
          "data": {
            "image/png": "[encoded data removed]",
            "text/latex": [
              "$\\displaystyle \\text{True}$"
            ],
            "text/plain": [
              "True"
            ]
          },
          "execution_count": 11,
          "metadata": {},
          "output_type": "execute_result"
        }
      ],
      "source": [
        "x > 0"
      ]
    },
    {
      "cell_type": "code",
      "execution_count": 12,
      "metadata": {},
      "outputs": [
        {
          "data": {
            "text/plain": [
              "True"
            ]
          },
          "execution_count": 12,
          "metadata": {},
          "output_type": "execute_result"
        }
      ],
      "source": [
        "x.is_positive"
      ]
    },
    {
      "cell_type": "code",
      "execution_count": 13,
      "metadata": {},
      "outputs": [
        {
          "ename": "SyntaxError",
          "evalue": "invalid syntax (1209101337.py, line 1)",
          "output_type": "error",
          "traceback": [
            "\u001b[0;36m  Cell \u001b[0;32mIn[13], line 1\u001b[0;36m\u001b[0m\n\u001b[0;31m    x.\u001b[0m\n\u001b[0m      ^\u001b[0m\n\u001b[0;31mSyntaxError\u001b[0m\u001b[0;31m:\u001b[0m invalid syntax\n"
          ]
        }
      ],
      "source": [
        "# this is where it takes about 5 to 1- seconds every time I put a . across x.\n",
        "x."
      ]
    },
    {
      "cell_type": "markdown",
      "metadata": {
        "id": "KxWwH4tUOnwn"
      },
      "source": [
        "### Complex numbers"
      ]
    },
    {
      "cell_type": "markdown",
      "metadata": {
        "id": "ruQGEVMkOnwn"
      },
      "source": [
        "The imaginary unit is denoted `I` in SymPy."
      ]
    },
    {
      "cell_type": "code",
      "execution_count": 14,
      "metadata": {
        "id": "GG_-JQDUOnwn",
        "outputId": "9cefe0db-08e2-4df2-93fc-3bece68b11b8"
      },
      "outputs": [
        {
          "data": {
            "image/png": "[encoded data removed]",
            "text/latex": [
              "$\\displaystyle 1 + i$"
            ],
            "text/plain": [
              "1 + ⅈ"
            ]
          },
          "execution_count": 14,
          "metadata": {},
          "output_type": "execute_result"
        }
      ],
      "source": [
        "1+1*I"
      ]
    },
    {
      "cell_type": "code",
      "execution_count": 15,
      "metadata": {
        "id": "2B8PD7FKOnwn",
        "outputId": "94df0bde-2125-4122-83e1-be6c8ab69112"
      },
      "outputs": [
        {
          "data": {
            "image/png": "[encoded data removed]",
            "text/latex": [
              "$\\displaystyle -1$"
            ],
            "text/plain": [
              "-1"
            ]
          },
          "execution_count": 15,
          "metadata": {},
          "output_type": "execute_result"
        }
      ],
      "source": [
        "I**2"
      ]
    },
    {
      "cell_type": "code",
      "execution_count": null,
      "metadata": {
        "id": "S3fqn7XdOnwn",
        "outputId": "0825f0a8-3e41-483e-8ceb-164760cce971"
      },
      "outputs": [
        {
          "data": {
            "image/png": "[encoded data removed]",
            "text/latex": [
              "$$\\left(i x + 1\\right)^{2}$$"
            ],
            "text/plain": [
              "         2\n",
              "(ⅈ⋅x + 1) "
            ]
          },
          "execution_count": 14,
          "metadata": {},
          "output_type": "execute_result"
        }
      ],
      "source": [
        "(x * I + 1)**2"
      ]
    },
    {
      "cell_type": "markdown",
      "metadata": {
        "id": "EgjSmGrcOnwn"
      },
      "source": [
        "### Rational numbers"
      ]
    },
    {
      "cell_type": "markdown",
      "metadata": {
        "id": "beOiL_hNOnwn"
      },
      "source": [
        "There are three different numerical types in SymPy: `Real`, `Rational`, `Integer`:"
      ]
    },
    {
      "cell_type": "code",
      "execution_count": null,
      "metadata": {
        "id": "11de6Jk8Onwn"
      },
      "outputs": [],
      "source": [
        "r1 = Rational(4,5)\n",
        "r2 = Rational(5,4)"
      ]
    },
    {
      "cell_type": "code",
      "execution_count": null,
      "metadata": {
        "id": "4Hz04vrQOnwn",
        "outputId": "528516bc-1fd8-4e9e-b923-2f986d706623"
      },
      "outputs": [
        {
          "data": {
            "image/png": "[encoded data removed]",
            "text/latex": [
              "$$\\frac{4}{5}$$"
            ],
            "text/plain": [
              "4/5"
            ]
          },
          "execution_count": 16,
          "metadata": {},
          "output_type": "execute_result"
        }
      ],
      "source": [
        "r1"
      ]
    },
    {
      "cell_type": "code",
      "execution_count": null,
      "metadata": {
        "id": "QyXDWoRBOnwo",
        "outputId": "4cbbb51e-c747-46a9-f156-4ce262c96a1d"
      },
      "outputs": [
        {
          "data": {
            "image/png": "[encoded data removed]",
            "text/latex": [
              "$$\\frac{41}{20}$$"
            ],
            "text/plain": [
              "41\n",
              "──\n",
              "20"
            ]
          },
          "execution_count": 17,
          "metadata": {},
          "output_type": "execute_result"
        }
      ],
      "source": [
        "r1+r2"
      ]
    },
    {
      "cell_type": "code",
      "execution_count": null,
      "metadata": {
        "id": "j1W_tbRBOnwo",
        "outputId": "26bba194-e6f0-474a-d741-fbef53dcebe4"
      },
      "outputs": [
        {
          "data": {
            "image/png": "[encoded data removed]",
            "text/latex": [
              "$$\\frac{16}{25}$$"
            ],
            "text/plain": [
              "16\n",
              "──\n",
              "25"
            ]
          },
          "execution_count": 18,
          "metadata": {},
          "output_type": "execute_result"
        }
      ],
      "source": [
        "r1/r2"
      ]
    },
    {
      "cell_type": "markdown",
      "metadata": {
        "id": "2MxBjZM0Onwo"
      },
      "source": [
        "## Numerical evaluation"
      ]
    },
    {
      "cell_type": "markdown",
      "metadata": {
        "id": "C7mIwOHqOnwo"
      },
      "source": [
        "SymPy uses a library for arbitrary precision as numerical backend, and has predefined SymPy expressions for a number of mathematical constants, such as: `pi`, `e`, `oo` for infinity.\n",
        "\n",
        "To evaluate an expression numerically we can use the `evalf` function (or `N`). It takes an argument `n` which specifies the number of significant digits."
      ]
    },
    {
      "cell_type": "code",
      "execution_count": null,
      "metadata": {
        "id": "qMPP5X4BOnwo",
        "outputId": "1cd85361-7880-4e5f-8b19-81220bb2c569"
      },
      "outputs": [
        {
          "data": {
            "image/png": "[encoded data removed]",
            "text/latex": [
              "$$3.1415926535897932384626433832795028841971693993751$$"
            ],
            "text/plain": [
              "3.1415926535897932384626433832795028841971693993751"
            ]
          },
          "execution_count": 19,
          "metadata": {},
          "output_type": "execute_result"
        }
      ],
      "source": [
        "pi.evalf(n=50)"
      ]
    },
    {
      "cell_type": "code",
      "execution_count": null,
      "metadata": {
        "id": "imq8VW_3Onwo"
      },
      "outputs": [],
      "source": [
        "y = (x + pi)**2"
      ]
    },
    {
      "cell_type": "code",
      "execution_count": null,
      "metadata": {
        "id": "AMVHTImqOnwo",
        "outputId": "0227eb69-0be0-40fa-da71-8b0681b5ab4f"
      },
      "outputs": [
        {
          "data": {
            "image/png": "[encoded data removed]",
            "text/latex": [
              "$$\\left(x + 3.1416\\right)^{2}$$"
            ],
            "text/plain": [
              "            2\n",
              "(x + 3.1416) "
            ]
          },
          "execution_count": 21,
          "metadata": {},
          "output_type": "execute_result"
        }
      ],
      "source": [
        "N(y, 5) # same as evalf"
      ]
    },
    {
      "cell_type": "markdown",
      "metadata": {
        "id": "ARTO7UjgOnwo"
      },
      "source": [
        "When we numerically evaluate algebraic expressions we often want to substitute a symbol with a numerical value. In SymPy we do that using the `subs` function:"
      ]
    },
    {
      "cell_type": "code",
      "execution_count": null,
      "metadata": {
        "id": "TQXE6XM8Onwp",
        "outputId": "57c4e614-20ae-4292-f339-5396f6cd5234"
      },
      "outputs": [
        {
          "data": {
            "image/png": "[encoded data removed]",
            "text/latex": [
              "$$\\left(1.5 + \\pi\\right)^{2}$$"
            ],
            "text/plain": [
              "         2\n",
              "(1.5 + π) "
            ]
          },
          "execution_count": 22,
          "metadata": {},
          "output_type": "execute_result"
        }
      ],
      "source": [
        "y.subs(x, 1.5)"
      ]
    },
    {
      "cell_type": "code",
      "execution_count": null,
      "metadata": {
        "id": "GCyItb82Onwp",
        "outputId": "3d4e1007-0520-4b62-cead-1e13d4266713"
      },
      "outputs": [
        {
          "data": {
            "image/png": "[encoded data removed]",
            "text/latex": [
              "$$21.5443823618587$$"
            ],
            "text/plain": [
              "21.5443823618587"
            ]
          },
          "execution_count": 23,
          "metadata": {},
          "output_type": "execute_result"
        }
      ],
      "source": [
        "N(y.subs(x, 1.5))"
      ]
    },
    {
      "cell_type": "markdown",
      "metadata": {
        "id": "l_PZMlRUOnwp"
      },
      "source": [
        "The `subs` function can of course also be used to substitute Symbols and expressions:"
      ]
    },
    {
      "cell_type": "code",
      "execution_count": null,
      "metadata": {
        "id": "0Kk7yplMOnws",
        "outputId": "bad63637-6b44-487a-c558-628c0f32ab3a"
      },
      "outputs": [
        {
          "data": {
            "image/png": "[encoded data removed]",
            "text/latex": [
              "$$\\left(a + 2 \\pi\\right)^{2}$$"
            ],
            "text/plain": [
              "         2\n",
              "(a + 2⋅π) "
            ]
          },
          "execution_count": 24,
          "metadata": {},
          "output_type": "execute_result"
        }
      ],
      "source": [
        "y.subs(x, a+pi)"
      ]
    },
    {
      "cell_type": "markdown",
      "metadata": {
        "id": "Tk6VBGGSOnws"
      },
      "source": [
        "We can also combine numerical evaluation of expressions with NumPy arrays:"
      ]
    },
    {
      "cell_type": "code",
      "execution_count": null,
      "metadata": {
        "id": "8kexkb4HOnwt"
      },
      "outputs": [],
      "source": [
        "import numpy"
      ]
    },
    {
      "cell_type": "code",
      "execution_count": null,
      "metadata": {
        "id": "bMahtfELOnwt"
      },
      "outputs": [],
      "source": [
        "x_vec = numpy.arange(0, 10, 0.1)"
      ]
    },
    {
      "cell_type": "code",
      "execution_count": null,
      "metadata": {
        "id": "MVmdp4eoOnwt"
      },
      "outputs": [],
      "source": [
        "y_vec = numpy.array([N(((x + pi)**2).subs(x, xx)) for xx in x_vec])"
      ]
    },
    {
      "cell_type": "code",
      "execution_count": null,
      "metadata": {
        "id": "mF27nGYsOnwt",
        "outputId": "9e2b35a3-e08d-460d-e946-bc879b264eae"
      },
      "outputs": [
        {
          "data": {
            "image/png": "[encoded data removed]",
            "text/plain": [
              "<matplotlib.figure.Figure at 0x1093af4d0>"
            ]
          },
          "metadata": {},
          "output_type": "display_data"
        }
      ],
      "source": [
        "fig, ax = plt.subplots()\n",
        "ax.plot(x_vec, y_vec);"
      ]
    },
    {
      "cell_type": "markdown",
      "metadata": {
        "id": "VCOB7CXpOnwt"
      },
      "source": [
        "However, this kind of numerical evaluation can be very slow, and there is a much more efficient way to do it: Use the function `lambdify` to \"compile\" a SymPy expression into a function that is much more efficient to evaluate numerically:"
      ]
    },
    {
      "cell_type": "code",
      "execution_count": null,
      "metadata": {
        "id": "CUS9X62SOnwt"
      },
      "outputs": [],
      "source": [
        "f = lambdify([x], (x + pi)**2, 'numpy')  # the first argument is a list of variables that\n",
        "                                         # f will be a function of: in this case only x -> f(x)"
      ]
    },
    {
      "cell_type": "code",
      "execution_count": null,
      "metadata": {
        "id": "xcfKZt1KOnwt"
      },
      "outputs": [],
      "source": [
        "y_vec = f(x_vec)  # now we can directly pass a numpy array and f(x) is efficiently evaluated"
      ]
    },
    {
      "cell_type": "markdown",
      "metadata": {
        "id": "drL0xvSfOnwt"
      },
      "source": [
        "The speedup when using \"lambdified\" functions instead of direct numerical evaluation can be significant, often several orders of magnitude. Even in this simple example we get a significant speed up:"
      ]
    },
    {
      "cell_type": "code",
      "execution_count": null,
      "metadata": {
        "id": "9lphhXV3Onwt",
        "outputId": "33c53d04-7d9c-48f4-8983-408474d959a4"
      },
      "outputs": [
        {
          "name": "stdout",
          "output_type": "stream",
          "text": [
            "10 loops, best of 3: 28.2 ms per loop\n"
          ]
        }
      ],
      "source": [
        "%%timeit\n",
        "\n",
        "y_vec = numpy.array([N(((x + pi)**2).subs(x, xx)) for xx in x_vec])"
      ]
    },
    {
      "cell_type": "code",
      "execution_count": null,
      "metadata": {
        "id": "9-Y_WJsdOnwt",
        "outputId": "ade86c9d-37e5-4945-d2c3-8aeddcd98dc2"
      },
      "outputs": [
        {
          "name": "stdout",
          "output_type": "stream",
          "text": [
            "The slowest run took 8.86 times longer than the fastest. This could mean that an intermediate result is being cached \n",
            "100000 loops, best of 3: 2.93 µs per loop\n"
          ]
        }
      ],
      "source": [
        "%%timeit\n",
        "\n",
        "y_vec = f(x_vec)"
      ]
    },
    {
      "cell_type": "markdown",
      "metadata": {
        "id": "2f-JRUM_Onwu"
      },
      "source": [
        "## Algebraic manipulations"
      ]
    },
    {
      "cell_type": "markdown",
      "metadata": {
        "id": "ZZOBEVboOnwu"
      },
      "source": [
        "One of the main uses of an CAS is to perform algebraic manipulations of expressions. For example, we might want to expand a product, factor an expression, or simplify an expression. The functions for doing these basic operations in SymPy are demonstrated in this section."
      ]
    },
    {
      "cell_type": "markdown",
      "metadata": {
        "id": "MToA4XrHOnwu"
      },
      "source": [
        "### Expand and factor"
      ]
    },
    {
      "cell_type": "markdown",
      "metadata": {
        "id": "R71kEik_Onwu"
      },
      "source": [
        "The first steps in an algebraic manipulation"
      ]
    },
    {
      "cell_type": "code",
      "execution_count": null,
      "metadata": {
        "id": "KDn3QXwBOnwu",
        "outputId": "1c057bd6-c4fa-4e5d-ba32-b0366ec662b7"
      },
      "outputs": [
        {
          "data": {
            "image/png": "[encoded data removed]",
            "text/latex": [
              "$$\\left(x + 1\\right) \\left(x + 2\\right) \\left(x + 3\\right)$$"
            ],
            "text/plain": [
              "(x + 1)⋅(x + 2)⋅(x + 3)"
            ]
          },
          "execution_count": 33,
          "metadata": {},
          "output_type": "execute_result"
        }
      ],
      "source": [
        "(x+1)*(x+2)*(x+3)"
      ]
    },
    {
      "cell_type": "code",
      "execution_count": null,
      "metadata": {
        "id": "dkuJHJoUOnwu",
        "outputId": "68d59731-284d-42d4-e37a-0204afc41de5"
      },
      "outputs": [
        {
          "data": {
            "image/png": "[encoded data removed]",
            "text/latex": [
              "$$x^{3} + 6 x^{2} + 11 x + 6$$"
            ],
            "text/plain": [
              " 3      2           \n",
              "x  + 6⋅x  + 11⋅x + 6"
            ]
          },
          "execution_count": 34,
          "metadata": {},
          "output_type": "execute_result"
        }
      ],
      "source": [
        "expand((x+1)*(x+2)*(x+3))"
      ]
    },
    {
      "cell_type": "markdown",
      "metadata": {
        "id": "yTlpWDEUOnwu"
      },
      "source": [
        "The `expand` function takes a number of keywords arguments which we can tell the functions what kind of expansions we want to have performed. For example, to expand trigonometric expressions, use the `trig=True` keyword argument:"
      ]
    },
    {
      "cell_type": "code",
      "execution_count": null,
      "metadata": {
        "id": "gnFmDNEnOnwu",
        "outputId": "32fac63c-eed7-4884-c1c9-9a348526f629"
      },
      "outputs": [
        {
          "data": {
            "image/png": "[encoded data removed]",
            "text/latex": [
              "$$\\sin{\\left (a + b \\right )}$$"
            ],
            "text/plain": [
              "sin(a + b)"
            ]
          },
          "execution_count": 35,
          "metadata": {},
          "output_type": "execute_result"
        }
      ],
      "source": [
        "sin(a+b)"
      ]
    },
    {
      "cell_type": "code",
      "execution_count": null,
      "metadata": {
        "id": "leLtdIQeOnwu",
        "outputId": "9bd13ef1-180e-472b-c873-33328430731c"
      },
      "outputs": [
        {
          "data": {
            "image/png": "[encoded data removed]",
            "text/latex": [
              "$$\\sin{\\left (a \\right )} \\cos{\\left (b \\right )} + \\sin{\\left (b \\right )} \\cos{\\left (a \\right )}$$"
            ],
            "text/plain": [
              "sin(a)⋅cos(b) + sin(b)⋅cos(a)"
            ]
          },
          "execution_count": 36,
          "metadata": {},
          "output_type": "execute_result"
        }
      ],
      "source": [
        "expand(sin(a+b), trig=True)"
      ]
    },
    {
      "cell_type": "markdown",
      "metadata": {
        "id": "EuhobLEpOnwv"
      },
      "source": [
        "See `help(expand)` for a detailed explanation of the various types of expansions the `expand` functions can perform."
      ]
    },
    {
      "cell_type": "markdown",
      "metadata": {
        "id": "qKUZ-f_eOnwv"
      },
      "source": [
        "The opposite of product expansion is of course factoring. To factor an expression in SymPy use the `factor` function:"
      ]
    },
    {
      "cell_type": "code",
      "execution_count": null,
      "metadata": {
        "id": "yVhBeIr5Onwv",
        "outputId": "95da42d5-362f-46f0-e1fa-768983825177"
      },
      "outputs": [
        {
          "data": {
            "image/png": "[encoded data removed]",
            "text/latex": [
              "$$\\left(x + 1\\right) \\left(x + 2\\right) \\left(x + 3\\right)$$"
            ],
            "text/plain": [
              "(x + 1)⋅(x + 2)⋅(x + 3)"
            ]
          },
          "execution_count": 37,
          "metadata": {},
          "output_type": "execute_result"
        }
      ],
      "source": [
        "factor(x**3 + 6 * x**2 + 11*x + 6)"
      ]
    },
    {
      "cell_type": "markdown",
      "metadata": {
        "id": "7kRmsxY3Onwv"
      },
      "source": [
        "### Simplify"
      ]
    },
    {
      "cell_type": "markdown",
      "metadata": {
        "id": "-sI2JjM_Onwv"
      },
      "source": [
        "The `simplify` tries to simplify an expression into a nice looking expression, using various techniques. More specific alternatives to the `simplify` functions also exists: `trigsimp`, `powsimp`, `logcombine`, etc.\n",
        "\n",
        "The basic usages of these functions are as follows:"
      ]
    },
    {
      "cell_type": "code",
      "execution_count": null,
      "metadata": {
        "id": "ExvcTT2POnwv",
        "outputId": "99851ca7-233f-4535-dbc0-01b1c7b0f9e1"
      },
      "outputs": [
        {
          "data": {
            "image/png": "[encoded data removed]",
            "text/latex": [
              "$$\\left(x + 1\\right) \\left(x + 2\\right) \\left(x + 3\\right)$$"
            ],
            "text/plain": [
              "(x + 1)⋅(x + 2)⋅(x + 3)"
            ]
          },
          "execution_count": 38,
          "metadata": {},
          "output_type": "execute_result"
        }
      ],
      "source": [
        "# simplify (sometimes) expands a product\n",
        "simplify((x+1)*(x+2)*(x+3))"
      ]
    },
    {
      "cell_type": "code",
      "execution_count": null,
      "metadata": {
        "id": "LV6-pTVNOnwv",
        "outputId": "50228da4-7dcd-4bf5-a8fc-41451a363af3"
      },
      "outputs": [
        {
          "data": {
            "image/png": "[encoded data removed]",
            "text/latex": [
              "$$1$$"
            ],
            "text/plain": [
              "1"
            ]
          },
          "execution_count": 39,
          "metadata": {},
          "output_type": "execute_result"
        }
      ],
      "source": [
        "# simplify uses trigonometric identities\n",
        "simplify(sin(a)**2 + cos(a)**2)"
      ]
    },
    {
      "cell_type": "code",
      "execution_count": null,
      "metadata": {
        "id": "CoNdL_EVOnwv",
        "outputId": "cdf4d74b-a0ac-438e-948a-e29b34af585d"
      },
      "outputs": [
        {
          "data": {
            "image/png": "[encoded data removed]",
            "text/latex": [
              "$$\\frac{1}{\\tan{\\left (x \\right )}}$$"
            ],
            "text/plain": [
              "  1   \n",
              "──────\n",
              "tan(x)"
            ]
          },
          "execution_count": 40,
          "metadata": {},
          "output_type": "execute_result"
        }
      ],
      "source": [
        "simplify(cos(x)/sin(x))"
      ]
    },
    {
      "cell_type": "markdown",
      "metadata": {
        "id": "YADWfKuROnwv"
      },
      "source": [
        "### apart and together"
      ]
    },
    {
      "cell_type": "markdown",
      "metadata": {
        "id": "RhXSBoIwOnwv"
      },
      "source": [
        "To manipulate symbolic expressions of fractions, we can use the `apart` and `together` functions:"
      ]
    },
    {
      "cell_type": "code",
      "execution_count": null,
      "metadata": {
        "id": "vBwph1moOnww"
      },
      "outputs": [],
      "source": [
        "f1 = 1/((a+1)*(a+2))"
      ]
    },
    {
      "cell_type": "code",
      "execution_count": null,
      "metadata": {
        "id": "3eDtW7STOnww",
        "outputId": "2e850f8e-3e4c-483c-d289-c671cdb040f5"
      },
      "outputs": [
        {
          "data": {
            "image/png": "[encoded data removed]",
            "text/latex": [
              "$$\\frac{1}{\\left(a + 1\\right) \\left(a + 2\\right)}$$"
            ],
            "text/plain": [
              "       1       \n",
              "───────────────\n",
              "(a + 1)⋅(a + 2)"
            ]
          },
          "execution_count": 42,
          "metadata": {},
          "output_type": "execute_result"
        }
      ],
      "source": [
        "f1"
      ]
    },
    {
      "cell_type": "code",
      "execution_count": null,
      "metadata": {
        "id": "zHljZqsPOnww",
        "outputId": "77de28e0-ebac-4700-f242-0c9ddec2efc9"
      },
      "outputs": [
        {
          "data": {
            "image/png": "[encoded data removed]",
            "text/latex": [
              "$$- \\frac{1}{a + 2} + \\frac{1}{a + 1}$$"
            ],
            "text/plain": [
              "    1       1  \n",
              "- ───── + ─────\n",
              "  a + 2   a + 1"
            ]
          },
          "execution_count": 43,
          "metadata": {},
          "output_type": "execute_result"
        }
      ],
      "source": [
        "apart(f1)"
      ]
    },
    {
      "cell_type": "code",
      "execution_count": null,
      "metadata": {
        "id": "1iMOAZAEOnww"
      },
      "outputs": [],
      "source": [
        "f2 = 1/(a+2) + 1/(a+3)"
      ]
    },
    {
      "cell_type": "code",
      "execution_count": null,
      "metadata": {
        "id": "NrmjED5mOnww",
        "outputId": "aaf3fd11-fac8-4bca-99fd-8a24e64ab219"
      },
      "outputs": [
        {
          "data": {
            "image/png": "[encoded data removed]",
            "text/latex": [
              "$$\\frac{1}{a + 3} + \\frac{1}{a + 2}$$"
            ],
            "text/plain": [
              "  1       1  \n",
              "───── + ─────\n",
              "a + 3   a + 2"
            ]
          },
          "execution_count": 45,
          "metadata": {},
          "output_type": "execute_result"
        }
      ],
      "source": [
        "f2"
      ]
    },
    {
      "cell_type": "code",
      "execution_count": null,
      "metadata": {
        "id": "pd41VHCAOnww",
        "outputId": "f724c733-9fba-4f59-c745-fdba303fc6bc"
      },
      "outputs": [
        {
          "data": {
            "image/png": "[encoded data removed]",
            "text/latex": [
              "$$\\frac{2 a + 5}{\\left(a + 2\\right) \\left(a + 3\\right)}$$"
            ],
            "text/plain": [
              "    2⋅a + 5    \n",
              "───────────────\n",
              "(a + 2)⋅(a + 3)"
            ]
          },
          "execution_count": 46,
          "metadata": {},
          "output_type": "execute_result"
        }
      ],
      "source": [
        "together(f2)"
      ]
    },
    {
      "cell_type": "markdown",
      "metadata": {
        "id": "bUeenkvEOnww"
      },
      "source": [
        "Simplify usually combines fractions but does not factor:"
      ]
    },
    {
      "cell_type": "code",
      "execution_count": null,
      "metadata": {
        "id": "Veg7gETvOnww",
        "outputId": "e9473083-20e6-4b99-af9c-3e1039dbf6ca"
      },
      "outputs": [
        {
          "data": {
            "image/png": "[encoded data removed]",
            "text/latex": [
              "$$\\frac{2 a + 5}{\\left(a + 2\\right) \\left(a + 3\\right)}$$"
            ],
            "text/plain": [
              "    2⋅a + 5    \n",
              "───────────────\n",
              "(a + 2)⋅(a + 3)"
            ]
          },
          "execution_count": 47,
          "metadata": {},
          "output_type": "execute_result"
        }
      ],
      "source": [
        "simplify(f2)"
      ]
    },
    {
      "cell_type": "markdown",
      "metadata": {
        "id": "lW5mA0YdOnww"
      },
      "source": [
        "## Calculus"
      ]
    },
    {
      "cell_type": "markdown",
      "metadata": {
        "id": "QXrxIwq8Onwx"
      },
      "source": [
        "In addition to algebraic manipulations, the other main use of CAS is to do calculus, like derivatives and integrals of algebraic expressions."
      ]
    },
    {
      "cell_type": "markdown",
      "metadata": {
        "id": "OILQwyn3Onwx"
      },
      "source": [
        "### Differentiation"
      ]
    },
    {
      "cell_type": "markdown",
      "metadata": {
        "id": "XoQqgwqyOnwx"
      },
      "source": [
        "Differentiation is usually simple. Use the `diff` function. The first argument is the expression to take the derivative of, and the second argument is the symbol by which to take the derivative:"
      ]
    },
    {
      "cell_type": "code",
      "execution_count": null,
      "metadata": {
        "id": "ttZjuzs8Onwx",
        "outputId": "7c65c0ff-2e89-4f29-aea1-a9923587b6cf"
      },
      "outputs": [
        {
          "data": {
            "image/png": "[encoded data removed]",
            "text/latex": [
              "$$\\left(x + \\pi\\right)^{2}$$"
            ],
            "text/plain": [
              "       2\n",
              "(x + π) "
            ]
          },
          "execution_count": 48,
          "metadata": {},
          "output_type": "execute_result"
        }
      ],
      "source": [
        "y"
      ]
    },
    {
      "cell_type": "code",
      "execution_count": null,
      "metadata": {
        "id": "HhF9wdxXOnwx",
        "outputId": "5e7fba54-784b-4de7-da75-6d7545cc0958"
      },
      "outputs": [
        {
          "data": {
            "image/png": "[encoded data removed]",
            "text/latex": [
              "$$4 \\left(x + \\pi\\right)^{3}$$"
            ],
            "text/plain": [
              "         3\n",
              "4⋅(x + π) "
            ]
          },
          "execution_count": 49,
          "metadata": {},
          "output_type": "execute_result"
        }
      ],
      "source": [
        "diff(y**2, x)"
      ]
    },
    {
      "cell_type": "markdown",
      "metadata": {
        "id": "FFbXHRbQOnwx"
      },
      "source": [
        "For higher order derivatives we can do:"
      ]
    },
    {
      "cell_type": "code",
      "execution_count": null,
      "metadata": {
        "id": "zk4Rj0iEOnwx",
        "outputId": "d60c32a6-cca3-4d53-df07-40c5627bb409"
      },
      "outputs": [
        {
          "data": {
            "image/png": "[encoded data removed]",
            "text/latex": [
              "$$12 \\left(x + \\pi\\right)^{2}$$"
            ],
            "text/plain": [
              "          2\n",
              "12⋅(x + π) "
            ]
          },
          "execution_count": 50,
          "metadata": {},
          "output_type": "execute_result"
        }
      ],
      "source": [
        "diff(y**2, x, x)"
      ]
    },
    {
      "cell_type": "code",
      "execution_count": null,
      "metadata": {
        "id": "IeGuYIJNOnwx",
        "outputId": "faacc356-bab1-4763-952d-23d3e5628d43"
      },
      "outputs": [
        {
          "data": {
            "image/png": "[encoded data removed]",
            "text/latex": [
              "$$12 \\left(x + \\pi\\right)^{2}$$"
            ],
            "text/plain": [
              "          2\n",
              "12⋅(x + π) "
            ]
          },
          "execution_count": 51,
          "metadata": {},
          "output_type": "execute_result"
        }
      ],
      "source": [
        "diff(y**2, x, 2) # same as above"
      ]
    },
    {
      "cell_type": "markdown",
      "metadata": {
        "id": "xgNG86XbOnwx"
      },
      "source": [
        "To calculate the derivative of a multivariate expression, we can do:"
      ]
    },
    {
      "cell_type": "code",
      "execution_count": null,
      "metadata": {
        "id": "ljBKhjA2Onwy"
      },
      "outputs": [],
      "source": [
        "x, y, z = symbols(\"x,y,z\")"
      ]
    },
    {
      "cell_type": "code",
      "execution_count": null,
      "metadata": {
        "id": "pgKUGpyeOnwy"
      },
      "outputs": [],
      "source": [
        "f = sin(x*y) + cos(y*z)"
      ]
    },
    {
      "cell_type": "markdown",
      "metadata": {
        "id": "zFmW4BQmOnwy"
      },
      "source": [
        "$\\frac{d^3f}{dxdy^2}$"
      ]
    },
    {
      "cell_type": "code",
      "execution_count": null,
      "metadata": {
        "id": "fBKqVRnOOnwy",
        "outputId": "b3b5023f-59b3-425b-9873-9b2440742a92"
      },
      "outputs": [
        {
          "data": {
            "image/png": "[encoded data removed]",
            "text/latex": [
              "$$- x \\left(x y \\cos{\\left (x y \\right )} + 2 \\sin{\\left (x y \\right )}\\right)$$"
            ],
            "text/plain": [
              "-x⋅(x⋅y⋅cos(x⋅y) + 2⋅sin(x⋅y))"
            ]
          },
          "execution_count": 54,
          "metadata": {},
          "output_type": "execute_result"
        }
      ],
      "source": [
        "diff(f, x, 1, y, 2)"
      ]
    },
    {
      "cell_type": "markdown",
      "metadata": {
        "id": "7Z0EgX5vOnwy"
      },
      "source": [
        "## Integration"
      ]
    },
    {
      "cell_type": "markdown",
      "metadata": {
        "id": "P1bHgL7COnwy"
      },
      "source": [
        "Integration is done in a similar fashion:"
      ]
    },
    {
      "cell_type": "code",
      "execution_count": null,
      "metadata": {
        "id": "pFLrtYgEOnwy",
        "outputId": "6c42c39b-3435-46e0-c015-03db98c2b28e"
      },
      "outputs": [
        {
          "data": {
            "image/png": "[encoded data removed]",
            "text/latex": [
              "$$\\sin{\\left (x y \\right )} + \\cos{\\left (y z \\right )}$$"
            ],
            "text/plain": [
              "sin(x⋅y) + cos(y⋅z)"
            ]
          },
          "execution_count": 55,
          "metadata": {},
          "output_type": "execute_result"
        }
      ],
      "source": [
        "f"
      ]
    },
    {
      "cell_type": "code",
      "execution_count": null,
      "metadata": {
        "id": "P8fRIN1qOnwy",
        "outputId": "b7713426-8473-4856-f06d-6970e921e42e"
      },
      "outputs": [
        {
          "data": {
            "image/png": "[encoded data removed]",
            "text/latex": [
              "$$x \\cos{\\left (y z \\right )} + \\begin{cases} 0 & \\text{for}\\: y = 0 \\\\- \\frac{1}{y} \\cos{\\left (x y \\right )} & \\text{otherwise} \\end{cases}$$"
            ],
            "text/plain": [
              "             ⎛⎧    0       for y = 0⎞\n",
              "             ⎜⎪                     ⎟\n",
              "x⋅cos(y⋅z) + ⎜⎨-cos(x⋅y)            ⎟\n",
              "             ⎜⎪──────────  otherwise⎟\n",
              "             ⎝⎩    y                ⎠"
            ]
          },
          "execution_count": 56,
          "metadata": {},
          "output_type": "execute_result"
        }
      ],
      "source": [
        "integrate(f, x)"
      ]
    },
    {
      "cell_type": "markdown",
      "metadata": {
        "id": "x7PZVuJpOnwy"
      },
      "source": [
        "By providing limits for the integration variable we can evaluate definite integrals:"
      ]
    },
    {
      "cell_type": "code",
      "execution_count": null,
      "metadata": {
        "id": "noiqfjOeOnwz",
        "outputId": "6c9cd0af-84e7-4843-faea-b6a2e7f2cfd4"
      },
      "outputs": [
        {
          "data": {
            "image/png": "[encoded data removed]",
            "text/latex": [
              "$$2 \\cos{\\left (y z \\right )}$$"
            ],
            "text/plain": [
              "2⋅cos(y⋅z)"
            ]
          },
          "execution_count": 57,
          "metadata": {},
          "output_type": "execute_result"
        }
      ],
      "source": [
        "integrate(f, (x, -1, 1))"
      ]
    },
    {
      "cell_type": "markdown",
      "metadata": {
        "id": "qP6T-lRjOnwz"
      },
      "source": [
        "and also improper integrals"
      ]
    },
    {
      "cell_type": "code",
      "execution_count": null,
      "metadata": {
        "id": "Ogh6AgHSOnwz",
        "outputId": "348b21b6-afc3-49b9-fdab-2cad26d873a2"
      },
      "outputs": [
        {
          "data": {
            "image/png": "[encoded data removed]",
            "text/latex": [
              "$$\\sqrt{\\pi}$$"
            ],
            "text/plain": [
              "  ___\n",
              "╲╱ π "
            ]
          },
          "execution_count": 58,
          "metadata": {},
          "output_type": "execute_result"
        }
      ],
      "source": [
        "integrate(exp(-x**2), (x, -oo, oo))"
      ]
    },
    {
      "cell_type": "markdown",
      "metadata": {
        "id": "b66HvLkNOnwz"
      },
      "source": [
        "Remember, `oo` is the SymPy notation for inifinity."
      ]
    },
    {
      "cell_type": "markdown",
      "metadata": {
        "id": "8PkfvFkJOnwz"
      },
      "source": [
        "### Sums and products"
      ]
    },
    {
      "cell_type": "markdown",
      "metadata": {
        "id": "JE1uOUMVOnwz"
      },
      "source": [
        "We can evaluate sums using the function `Sum`:"
      ]
    },
    {
      "cell_type": "code",
      "execution_count": null,
      "metadata": {
        "id": "XfvYel6mOnwz"
      },
      "outputs": [],
      "source": [
        "n = Symbol(\"n\")"
      ]
    },
    {
      "cell_type": "code",
      "execution_count": null,
      "metadata": {
        "id": "C3SffYItOnw0",
        "outputId": "3359b90d-b85d-4027-aa3e-7fcf76ac10da"
      },
      "outputs": [
        {
          "data": {
            "image/png": "[encoded data removed]",
            "text/latex": [
              "$$\\sum_{n=1}^{10} \\frac{1}{n^{2}}$$"
            ],
            "text/plain": [
              "  10    \n",
              " ____   \n",
              " ╲      \n",
              "  ╲   1 \n",
              "   ╲  ──\n",
              "   ╱   2\n",
              "  ╱   n \n",
              " ╱      \n",
              " ‾‾‾‾   \n",
              "n = 1   "
            ]
          },
          "execution_count": 60,
          "metadata": {},
          "output_type": "execute_result"
        }
      ],
      "source": [
        "Sum(1/n**2, (n, 1, 10))"
      ]
    },
    {
      "cell_type": "code",
      "execution_count": null,
      "metadata": {
        "id": "g0Mzm608Onw2",
        "outputId": "6cc4edaa-8296-486e-e4db-58a39db0778d"
      },
      "outputs": [
        {
          "data": {
            "image/png": "[encoded data removed]",
            "text/latex": [
              "$$1.54976773116654$$"
            ],
            "text/plain": [
              "1.54976773116654"
            ]
          },
          "execution_count": 61,
          "metadata": {},
          "output_type": "execute_result"
        }
      ],
      "source": [
        "Sum(1/n**2, (n,1, 10)).evalf()"
      ]
    },
    {
      "cell_type": "code",
      "execution_count": null,
      "metadata": {
        "id": "CySBrCKaOnw3",
        "outputId": "24e070a6-7d6b-429d-fca1-f8050cf77f37"
      },
      "outputs": [
        {
          "data": {
            "image/png": "[encoded data removed]",
            "text/latex": [
              "$$1.64493406684823$$"
            ],
            "text/plain": [
              "1.64493406684823"
            ]
          },
          "execution_count": 62,
          "metadata": {},
          "output_type": "execute_result"
        }
      ],
      "source": [
        "Sum(1/n**2, (n, 1, oo)).evalf()"
      ]
    },
    {
      "cell_type": "markdown",
      "metadata": {
        "id": "MXeqZLaVOnw3"
      },
      "source": [
        "Products work much the same way:"
      ]
    },
    {
      "cell_type": "code",
      "execution_count": null,
      "metadata": {
        "id": "TUbCEUrGOnw3",
        "outputId": "f36c16bf-4ebd-4aa3-bfe2-43d3ab8b4dce"
      },
      "outputs": [
        {
          "data": {
            "image/png": "[encoded data removed]",
            "text/latex": [
              "$$\\prod_{n=1}^{10} n$$"
            ],
            "text/plain": [
              "  10   \n",
              "┬───┬  \n",
              "│   │ n\n",
              "│   │  \n",
              "n = 1  "
            ]
          },
          "execution_count": 63,
          "metadata": {},
          "output_type": "execute_result"
        }
      ],
      "source": [
        "Product(n, (n, 1, 10)) # 10!"
      ]
    },
    {
      "cell_type": "markdown",
      "metadata": {
        "id": "NuPaX8AaOnw3"
      },
      "source": [
        "## Limits"
      ]
    },
    {
      "cell_type": "markdown",
      "metadata": {
        "id": "Ww9t_9djOnw3"
      },
      "source": [
        "Limits can be evaluated using the `limit` function. For example,"
      ]
    },
    {
      "cell_type": "code",
      "execution_count": null,
      "metadata": {
        "id": "QZlUhRtFOnw3",
        "outputId": "dd7997ee-403f-462d-dd32-6df7c2a0748e"
      },
      "outputs": [
        {
          "data": {
            "image/png": "[encoded data removed]",
            "text/latex": [
              "$$1$$"
            ],
            "text/plain": [
              "1"
            ]
          },
          "execution_count": 64,
          "metadata": {},
          "output_type": "execute_result"
        }
      ],
      "source": [
        "limit(sin(x)/x, x, 0)"
      ]
    },
    {
      "cell_type": "markdown",
      "metadata": {
        "id": "kkSrZy59Onw3"
      },
      "source": [
        "We can use 'limit' to check the result of derivation using the `diff` function:"
      ]
    },
    {
      "cell_type": "code",
      "execution_count": null,
      "metadata": {
        "id": "2Lc-h1RiOnw3",
        "outputId": "c968d87d-bd44-4b72-8409-24a84e3f5fd5"
      },
      "outputs": [
        {
          "data": {
            "image/png": "[encoded data removed]",
            "text/latex": [
              "$$\\sin{\\left (x y \\right )} + \\cos{\\left (y z \\right )}$$"
            ],
            "text/plain": [
              "sin(x⋅y) + cos(y⋅z)"
            ]
          },
          "execution_count": 65,
          "metadata": {},
          "output_type": "execute_result"
        }
      ],
      "source": [
        "f"
      ]
    },
    {
      "cell_type": "code",
      "execution_count": null,
      "metadata": {
        "id": "1l4io66QOnw3",
        "outputId": "f3917916-0625-4f78-ce24-dac72ba60f45"
      },
      "outputs": [
        {
          "data": {
            "image/png": "[encoded data removed]",
            "text/latex": [
              "$$y \\cos{\\left (x y \\right )}$$"
            ],
            "text/plain": [
              "y⋅cos(x⋅y)"
            ]
          },
          "execution_count": 66,
          "metadata": {},
          "output_type": "execute_result"
        }
      ],
      "source": [
        "diff(f, x)"
      ]
    },
    {
      "cell_type": "markdown",
      "metadata": {
        "id": "9dFl4A4NOnw4"
      },
      "source": [
        "$\\displaystyle \\frac{\\mathrm{d}f(x,y)}{\\mathrm{d}x} = \\frac{f(x+h,y)-f(x,y)}{h}$"
      ]
    },
    {
      "cell_type": "code",
      "execution_count": null,
      "metadata": {
        "id": "Xu4vktX5Onw4"
      },
      "outputs": [],
      "source": [
        "h = Symbol(\"h\")"
      ]
    },
    {
      "cell_type": "code",
      "execution_count": null,
      "metadata": {
        "id": "ZiAjMElWOnw4",
        "outputId": "8bdfca06-bca6-4bf2-f42f-0ffca69539ea"
      },
      "outputs": [
        {
          "data": {
            "image/png": "[encoded data removed]",
            "text/latex": [
              "$$y \\cos{\\left (x y \\right )}$$"
            ],
            "text/plain": [
              "y⋅cos(x⋅y)"
            ]
          },
          "execution_count": 68,
          "metadata": {},
          "output_type": "execute_result"
        }
      ],
      "source": [
        "limit((f.subs(x, x+h) - f)/h, h, 0)"
      ]
    },
    {
      "cell_type": "markdown",
      "metadata": {
        "id": "XLZhS5y7Onw4"
      },
      "source": [
        "OK!"
      ]
    },
    {
      "cell_type": "markdown",
      "metadata": {
        "id": "tCkJKiNqOnw4"
      },
      "source": [
        "We can change the direction from which we approach the limiting point using the `dir` keyword argument:"
      ]
    },
    {
      "cell_type": "code",
      "execution_count": null,
      "metadata": {
        "id": "-TOBzIWrOnw4",
        "outputId": "dad0e872-132f-41af-d3f3-547e0df6f100"
      },
      "outputs": [
        {
          "data": {
            "image/png": "[encoded data removed]",
            "text/latex": [
              "$$\\infty$$"
            ],
            "text/plain": [
              "∞"
            ]
          },
          "execution_count": 69,
          "metadata": {},
          "output_type": "execute_result"
        }
      ],
      "source": [
        "limit(1/x, x, 0, dir=\"+\")"
      ]
    },
    {
      "cell_type": "code",
      "execution_count": null,
      "metadata": {
        "id": "AoPB1xhIOnw4",
        "outputId": "397a8ae5-5588-448d-8e5c-0b9f19f2d1c9"
      },
      "outputs": [
        {
          "data": {
            "image/png": "[encoded data removed]",
            "text/latex": [
              "$$-\\infty$$"
            ],
            "text/plain": [
              "-∞"
            ]
          },
          "execution_count": 70,
          "metadata": {},
          "output_type": "execute_result"
        }
      ],
      "source": [
        "limit(1/x, x, 0, dir=\"-\")"
      ]
    },
    {
      "cell_type": "markdown",
      "metadata": {
        "id": "VmkpxvstOnw4"
      },
      "source": [
        "## Series"
      ]
    },
    {
      "cell_type": "markdown",
      "metadata": {
        "id": "ZEo991RxOnw4"
      },
      "source": [
        "Series expansion is also one of the most useful features of a CAS. In SymPy we can perform a series expansion of an expression using the `series` function:"
      ]
    },
    {
      "cell_type": "code",
      "execution_count": null,
      "metadata": {
        "id": "H0ABVvK1Onw4",
        "outputId": "cb778d27-aa60-45c3-fc07-62e9c73410bc"
      },
      "outputs": [
        {
          "data": {
            "image/png": "[encoded data removed]",
            "text/latex": [
              "$$1 + x + \\frac{x^{2}}{2} + \\frac{x^{3}}{6} + \\frac{x^{4}}{24} + \\frac{x^{5}}{120} + \\mathcal{O}\\left(x^{6}\\right)$$"
            ],
            "text/plain": [
              "         2    3    4     5        \n",
              "        x    x    x     x     ⎛ 6⎞\n",
              "1 + x + ── + ── + ── + ─── + O⎝x ⎠\n",
              "        2    6    24   120        "
            ]
          },
          "execution_count": 71,
          "metadata": {},
          "output_type": "execute_result"
        }
      ],
      "source": [
        "series(exp(x), x)"
      ]
    },
    {
      "cell_type": "markdown",
      "metadata": {
        "id": "NptDMTz4Onw4"
      },
      "source": [
        "By default it expands the expression around $x=0$, but we can expand around any value of $x$ by explicitly include a value in the function call:"
      ]
    },
    {
      "cell_type": "code",
      "execution_count": null,
      "metadata": {
        "id": "xq9KrZIQOnw5",
        "outputId": "ea5f219f-8478-4cf4-9565-48f0d535c6ea"
      },
      "outputs": [
        {
          "data": {
            "image/png": "[encoded data removed]",
            "text/latex": [
              "$$e + e \\left(x - 1\\right) + \\frac{e}{2} \\left(x - 1\\right)^{2} + \\frac{e}{6} \\left(x - 1\\right)^{3} + \\frac{e}{24} \\left(x - 1\\right)^{4} + \\frac{e}{120} \\left(x - 1\\right)^{5} + \\mathcal{O}\\left(\\left(x - 1\\right)^{6}; x\\rightarrow1\\right)$$"
            ],
            "text/plain": [
              "                         2            3            4            5             \n",
              "                ℯ⋅(x - 1)    ℯ⋅(x - 1)    ℯ⋅(x - 1)    ℯ⋅(x - 1)     ⎛       6\n",
              "ℯ + ℯ⋅(x - 1) + ────────── + ────────── + ────────── + ────────── + O⎝(x - 1) \n",
              "                    2            6            24          120                 \n",
              "\n",
              "        \n",
              "       ⎞\n",
              "; x → 1⎠\n",
              "        "
            ]
          },
          "execution_count": 72,
          "metadata": {},
          "output_type": "execute_result"
        }
      ],
      "source": [
        "series(exp(x), x, 1)"
      ]
    },
    {
      "cell_type": "markdown",
      "metadata": {
        "id": "sABoWpu2Onw5"
      },
      "source": [
        "And we can explicitly define to which order the series expansion should be carried out:"
      ]
    },
    {
      "cell_type": "code",
      "execution_count": null,
      "metadata": {
        "id": "dOuVFwI1Onw5",
        "outputId": "a3089c01-3ee9-4cd8-d361-9425b06e894d"
      },
      "outputs": [
        {
          "data": {
            "image/png": "[encoded data removed]",
            "text/latex": [
              "$$e + e \\left(x - 1\\right) + \\frac{e}{2} \\left(x - 1\\right)^{2} + \\frac{e}{6} \\left(x - 1\\right)^{3} + \\frac{e}{24} \\left(x - 1\\right)^{4} + \\frac{e}{120} \\left(x - 1\\right)^{5} + \\frac{e}{720} \\left(x - 1\\right)^{6} + \\frac{e}{5040} \\left(x - 1\\right)^{7} + \\frac{e}{40320} \\left(x - 1\\right)^{8} + \\frac{e}{362880} \\left(x - 1\\right)^{9} + \\mathcal{O}\\left(\\left(x - 1\\right)^{10}; x\\rightarrow1\\right)$$"
            ],
            "text/plain": [
              "                         2            3            4            5            6\n",
              "                ℯ⋅(x - 1)    ℯ⋅(x - 1)    ℯ⋅(x - 1)    ℯ⋅(x - 1)    ℯ⋅(x - 1) \n",
              "ℯ + ℯ⋅(x - 1) + ────────── + ────────── + ────────── + ────────── + ──────────\n",
              "                    2            6            24          120          720    \n",
              "\n",
              "            7            8            9                      \n",
              "   ℯ⋅(x - 1)    ℯ⋅(x - 1)    ℯ⋅(x - 1)     ⎛       10       ⎞\n",
              " + ────────── + ────────── + ────────── + O⎝(x - 1)  ; x → 1⎠\n",
              "      5040        40320        362880                        "
            ]
          },
          "execution_count": 73,
          "metadata": {},
          "output_type": "execute_result"
        }
      ],
      "source": [
        "series(exp(x), x, 1, 10)"
      ]
    },
    {
      "cell_type": "markdown",
      "metadata": {
        "id": "NI6B87z8Onw5"
      },
      "source": [
        "The series expansion includes the order of the approximation, which is very useful for keeping track of the order of validity when we do calculations with series expansions of different order:"
      ]
    },
    {
      "cell_type": "code",
      "execution_count": null,
      "metadata": {
        "id": "tXwfWSZrOnw5",
        "outputId": "70b7a2aa-a4ad-413e-d6ac-c2fe821fdd18"
      },
      "outputs": [
        {
          "data": {
            "image/png": "[encoded data removed]",
            "text/latex": [
              "$$1 - \\frac{x^{2}}{2} + \\frac{x^{4}}{24} + \\mathcal{O}\\left(x^{5}\\right)$$"
            ],
            "text/plain": [
              "     2    4        \n",
              "    x    x     ⎛ 5⎞\n",
              "1 - ── + ── + O⎝x ⎠\n",
              "    2    24        "
            ]
          },
          "execution_count": 74,
          "metadata": {},
          "output_type": "execute_result"
        }
      ],
      "source": [
        "s1 = cos(x).series(x, 0, 5)\n",
        "s1"
      ]
    },
    {
      "cell_type": "code",
      "execution_count": null,
      "metadata": {
        "id": "K_m8mZdKOnw5",
        "outputId": "6ba92cc3-5765-4e6f-b953-2f885a38b5bc"
      },
      "outputs": [
        {
          "data": {
            "image/png": "[encoded data removed]",
            "text/latex": [
              "$$x + \\mathcal{O}\\left(x^{2}\\right)$$"
            ],
            "text/plain": [
              "     ⎛ 2⎞\n",
              "x + O⎝x ⎠"
            ]
          },
          "execution_count": 75,
          "metadata": {},
          "output_type": "execute_result"
        }
      ],
      "source": [
        "s2 = sin(x).series(x, 0, 2)\n",
        "s2"
      ]
    },
    {
      "cell_type": "code",
      "execution_count": null,
      "metadata": {
        "id": "3bvbezIMOnw5",
        "outputId": "b8d35275-a3f2-4688-9dad-9f808aa5fc39"
      },
      "outputs": [
        {
          "data": {
            "image/png": "[encoded data removed]",
            "text/latex": [
              "$$x + \\mathcal{O}\\left(x^{2}\\right)$$"
            ],
            "text/plain": [
              "     ⎛ 2⎞\n",
              "x + O⎝x ⎠"
            ]
          },
          "execution_count": 76,
          "metadata": {},
          "output_type": "execute_result"
        }
      ],
      "source": [
        "expand(s1 * s2)"
      ]
    },
    {
      "cell_type": "markdown",
      "metadata": {
        "id": "k9Cou7q0Onw5"
      },
      "source": [
        "If we want to get rid of the order information we can use the `removeO` method:"
      ]
    },
    {
      "cell_type": "code",
      "execution_count": null,
      "metadata": {
        "id": "rHIwXGKwOnw5",
        "outputId": "aaa8d430-a827-4901-dc36-e93b1ef9fb21"
      },
      "outputs": [
        {
          "data": {
            "image/png": "[encoded data removed]",
            "text/latex": [
              "$$\\frac{x^{5}}{24} - \\frac{x^{3}}{2} + x$$"
            ],
            "text/plain": [
              " 5    3    \n",
              "x    x     \n",
              "── - ── + x\n",
              "24   2     "
            ]
          },
          "execution_count": 77,
          "metadata": {},
          "output_type": "execute_result"
        }
      ],
      "source": [
        "expand(s1.removeO() * s2.removeO())"
      ]
    },
    {
      "cell_type": "markdown",
      "metadata": {
        "id": "KI2XyxrKOnw6"
      },
      "source": [
        "But note that this is not the correct expansion of $\\cos(x)\\sin(x)$ to $5$th order:"
      ]
    },
    {
      "cell_type": "code",
      "execution_count": null,
      "metadata": {
        "id": "VNlb75TiOnw6",
        "outputId": "fe2cff04-bf9c-437d-f2c1-9e29fc5c6b34"
      },
      "outputs": [
        {
          "data": {
            "image/png": "[encoded data removed]",
            "text/latex": [
              "$$x - \\frac{2 x^{3}}{3} + \\frac{2 x^{5}}{15} + \\mathcal{O}\\left(x^{6}\\right)$$"
            ],
            "text/plain": [
              "       3      5        \n",
              "    2⋅x    2⋅x     ⎛ 6⎞\n",
              "x - ──── + ──── + O⎝x ⎠\n",
              "     3      15         "
            ]
          },
          "execution_count": 78,
          "metadata": {},
          "output_type": "execute_result"
        }
      ],
      "source": [
        "(cos(x)*sin(x)).series(x, 0, 6)"
      ]
    },
    {
      "cell_type": "markdown",
      "metadata": {
        "id": "UUI1JbAMOnw6"
      },
      "source": [
        "## Linear algebra"
      ]
    },
    {
      "cell_type": "markdown",
      "metadata": {
        "id": "r2KUA2NWOnw6"
      },
      "source": [
        "### Matrices"
      ]
    },
    {
      "cell_type": "markdown",
      "metadata": {
        "id": "6kj9M-a8Onw6"
      },
      "source": [
        "Matrices are defined using the `Matrix` class:"
      ]
    },
    {
      "cell_type": "code",
      "execution_count": null,
      "metadata": {
        "id": "_aVUYnkJOnw6"
      },
      "outputs": [],
      "source": [
        "m11, m12, m21, m22 = symbols(\"m11, m12, m21, m22\")\n",
        "b1, b2 = symbols(\"b1, b2\")"
      ]
    },
    {
      "cell_type": "code",
      "execution_count": null,
      "metadata": {
        "id": "F__xlUDGOnw6",
        "outputId": "97f36283-792c-41df-fc2c-6db94b7e89d1"
      },
      "outputs": [
        {
          "data": {
            "image/png": "[encoded data removed]",
            "text/latex": [
              "$$\\left[\\begin{matrix}m_{11} & m_{12}\\\\m_{21} & m_{22}\\end{matrix}\\right]$$"
            ],
            "text/plain": [
              "⎡m₁₁  m₁₂⎤\n",
              "⎢        ⎥\n",
              "⎣m₂₁  m₂₂⎦"
            ]
          },
          "execution_count": 80,
          "metadata": {},
          "output_type": "execute_result"
        }
      ],
      "source": [
        "A = Matrix([[m11, m12],[m21, m22]])\n",
        "A"
      ]
    },
    {
      "cell_type": "code",
      "execution_count": null,
      "metadata": {
        "id": "1kvgApYEOnw6",
        "outputId": "c03ab73a-4831-4070-dae3-5b1c9d87aa69"
      },
      "outputs": [
        {
          "data": {
            "image/png": "[encoded data removed]",
            "text/latex": [
              "$$\\left[\\begin{matrix}b_{1}\\\\b_{2}\\end{matrix}\\right]$$"
            ],
            "text/plain": [
              "⎡b₁⎤\n",
              "⎢  ⎥\n",
              "⎣b₂⎦"
            ]
          },
          "execution_count": 81,
          "metadata": {},
          "output_type": "execute_result"
        }
      ],
      "source": [
        "b = Matrix([[b1], [b2]])\n",
        "b"
      ]
    },
    {
      "cell_type": "markdown",
      "metadata": {
        "id": "uYywtcj9Onw6"
      },
      "source": [
        "With `Matrix` class instances we can do the usual matrix algebra operations:"
      ]
    },
    {
      "cell_type": "code",
      "execution_count": null,
      "metadata": {
        "id": "C1KRuURPOnw6",
        "outputId": "dcaf7468-7249-40e1-b1a2-baffec4a67ee"
      },
      "outputs": [
        {
          "data": {
            "image/png": "[encoded data removed]",
            "text/latex": [
              "$$\\left[\\begin{matrix}m_{11}^{2} + m_{12} m_{21} & m_{11} m_{12} + m_{12} m_{22}\\\\m_{11} m_{21} + m_{21} m_{22} & m_{12} m_{21} + m_{22}^{2}\\end{matrix}\\right]$$"
            ],
            "text/plain": [
              "⎡    2                               ⎤\n",
              "⎢ m₁₁  + m₁₂⋅m₂₁    m₁₁⋅m₁₂ + m₁₂⋅m₂₂⎥\n",
              "⎢                                    ⎥\n",
              "⎢                                 2  ⎥\n",
              "⎣m₁₁⋅m₂₁ + m₂₁⋅m₂₂   m₁₂⋅m₂₁ + m₂₂   ⎦"
            ]
          },
          "execution_count": 82,
          "metadata": {},
          "output_type": "execute_result"
        }
      ],
      "source": [
        "A**2"
      ]
    },
    {
      "cell_type": "code",
      "execution_count": null,
      "metadata": {
        "id": "-QPjAZQ_Onw7",
        "outputId": "11375d99-42a7-4e67-c9e5-3dc72e6927fb"
      },
      "outputs": [
        {
          "data": {
            "image/png": "[encoded data removed]",
            "text/latex": [
              "$$\\left[\\begin{matrix}b_{1} m_{11} + b_{2} m_{12}\\\\b_{1} m_{21} + b_{2} m_{22}\\end{matrix}\\right]$$"
            ],
            "text/plain": [
              "⎡b₁⋅m₁₁ + b₂⋅m₁₂⎤\n",
              "⎢               ⎥\n",
              "⎣b₁⋅m₂₁ + b₂⋅m₂₂⎦"
            ]
          },
          "execution_count": 83,
          "metadata": {},
          "output_type": "execute_result"
        }
      ],
      "source": [
        "A * b"
      ]
    },
    {
      "cell_type": "markdown",
      "metadata": {
        "id": "cYJ3coaQOnw7"
      },
      "source": [
        "And calculate determinants and inverses, and the like:"
      ]
    },
    {
      "cell_type": "code",
      "execution_count": null,
      "metadata": {
        "id": "Hp1ZpH3AOnw7",
        "outputId": "a4b4e764-d57c-47ae-8fa4-26e2b80855d8"
      },
      "outputs": [
        {
          "data": {
            "image/png": "[encoded data removed]",
            "text/latex": [
              "$$m_{11} m_{22} - m_{12} m_{21}$$"
            ],
            "text/plain": [
              "m₁₁⋅m₂₂ - m₁₂⋅m₂₁"
            ]
          },
          "execution_count": 84,
          "metadata": {},
          "output_type": "execute_result"
        }
      ],
      "source": [
        "A.det()"
      ]
    },
    {
      "cell_type": "code",
      "execution_count": null,
      "metadata": {
        "id": "0DEVqPd5Onw7",
        "outputId": "bdf6a750-0b3d-4c10-d91e-81e857003412"
      },
      "outputs": [
        {
          "data": {
            "image/png": "[encoded data removed]",
            "text/latex": [
              "$$\\left[\\begin{matrix}\\frac{1}{m_{11}} + \\frac{m_{12} m_{21}}{m_{11}^{2} \\left(m_{22} - \\frac{m_{12} m_{21}}{m_{11}}\\right)} & - \\frac{m_{12}}{m_{11} \\left(m_{22} - \\frac{m_{12} m_{21}}{m_{11}}\\right)}\\\\- \\frac{m_{21}}{m_{11} \\left(m_{22} - \\frac{m_{12} m_{21}}{m_{11}}\\right)} & \\frac{1}{m_{22} - \\frac{m_{12} m_{21}}{m_{11}}}\\end{matrix}\\right]$$"
            ],
            "text/plain": [
              "⎡ 1          m₁₂⋅m₂₁                -m₁₂        ⎤\n",
              "⎢─── + ────────────────────  ───────────────────⎥\n",
              "⎢m₁₁      2 ⎛      m₁₂⋅m₂₁⎞      ⎛      m₁₂⋅m₂₁⎞⎥\n",
              "⎢      m₁₁ ⋅⎜m₂₂ - ───────⎟  m₁₁⋅⎜m₂₂ - ───────⎟⎥\n",
              "⎢           ⎝        m₁₁  ⎠      ⎝        m₁₁  ⎠⎥\n",
              "⎢                                               ⎥\n",
              "⎢          -m₂₁                       1         ⎥\n",
              "⎢   ───────────────────         ─────────────   ⎥\n",
              "⎢       ⎛      m₁₂⋅m₂₁⎞               m₁₂⋅m₂₁   ⎥\n",
              "⎢   m₁₁⋅⎜m₂₂ - ───────⎟         m₂₂ - ───────   ⎥\n",
              "⎣       ⎝        m₁₁  ⎠                 m₁₁     ⎦"
            ]
          },
          "execution_count": 85,
          "metadata": {},
          "output_type": "execute_result"
        }
      ],
      "source": [
        "A.inv()"
      ]
    },
    {
      "cell_type": "markdown",
      "metadata": {
        "id": "lJ4s6nRLOnw7"
      },
      "source": [
        "## Solving equations"
      ]
    },
    {
      "cell_type": "markdown",
      "metadata": {
        "id": "gWs8MkBlOnw7"
      },
      "source": [
        "For solving equations and systems of equations we can use the `solve` function:"
      ]
    },
    {
      "cell_type": "code",
      "execution_count": null,
      "metadata": {
        "id": "FLWu1wisOnw7",
        "outputId": "4774e29e-f37a-4099-e1da-189991e6c200"
      },
      "outputs": [
        {
          "data": {
            "image/png": "[encoded data removed]",
            "text/latex": [
              "$$\\left [ -1, \\quad 1\\right ]$$"
            ],
            "text/plain": [
              "[-1, 1]"
            ]
          },
          "execution_count": 86,
          "metadata": {},
          "output_type": "execute_result"
        }
      ],
      "source": [
        "solve(x**2 - 1, x)"
      ]
    },
    {
      "cell_type": "code",
      "execution_count": null,
      "metadata": {
        "id": "OpBfUBCeOnw7",
        "outputId": "4c0297d2-f81b-4d1e-98c4-f3d3763493cf"
      },
      "outputs": [
        {
          "data": {
            "image/png": "[encoded data removed]",
            "text/latex": [
              "$$\\left [ - i \\sqrt{- \\frac{1}{2} + \\frac{\\sqrt{5}}{2}}, \\quad i \\sqrt{- \\frac{1}{2} + \\frac{\\sqrt{5}}{2}}, \\quad - \\sqrt{\\frac{1}{2} + \\frac{\\sqrt{5}}{2}}, \\quad \\sqrt{\\frac{1}{2} + \\frac{\\sqrt{5}}{2}}\\right ]$$"
            ],
            "text/plain": [
              "⎡        _____________         _____________        ___________       ________\n",
              "⎢       ╱         ___         ╱         ___        ╱       ___       ╱       _\n",
              "⎢      ╱    1   ╲╱ 5         ╱    1   ╲╱ 5        ╱  1   ╲╱ 5       ╱  1   ╲╱ \n",
              "⎢-ⅈ⋅  ╱   - ─ + ───── , ⅈ⋅  ╱   - ─ + ───── , -  ╱   ─ + ───── ,   ╱   ─ + ───\n",
              "⎣   ╲╱      2     2       ╲╱      2     2      ╲╱    2     2     ╲╱    2     2\n",
              "\n",
              "___⎤\n",
              "__ ⎥\n",
              "5  ⎥\n",
              "── ⎥\n",
              "   ⎦"
            ]
          },
          "execution_count": 87,
          "metadata": {},
          "output_type": "execute_result"
        }
      ],
      "source": [
        "solve(x**4 - x**2 - 1, x)"
      ]
    },
    {
      "cell_type": "markdown",
      "metadata": {
        "id": "PyGQ0GTIOnw7"
      },
      "source": [
        "System of equations:"
      ]
    },
    {
      "cell_type": "code",
      "execution_count": null,
      "metadata": {
        "id": "a-4rhujWOnw7",
        "outputId": "70264928-4b6a-4ecd-f4f6-1386ea4bad31"
      },
      "outputs": [
        {
          "data": {
            "image/png": "[encoded data removed]",
            "text/latex": [
              "$$\\left \\{ x : 1, \\quad y : 0\\right \\}$$"
            ],
            "text/plain": [
              "{x: 1, y: 0}"
            ]
          },
          "execution_count": 88,
          "metadata": {},
          "output_type": "execute_result"
        }
      ],
      "source": [
        "solve([x + y - 1, x - y - 1], [x,y])"
      ]
    },
    {
      "cell_type": "markdown",
      "metadata": {
        "id": "TsPcjPxSOnw8"
      },
      "source": [
        "In terms of other symbolic expressions:"
      ]
    },
    {
      "cell_type": "code",
      "execution_count": null,
      "metadata": {
        "id": "Nc9EiD-BOnw8",
        "outputId": "aad8f952-a9cb-4dbd-d6fd-cadedc1224a5"
      },
      "outputs": [
        {
          "data": {
            "image/png": "[encoded data removed]",
            "text/latex": [
              "$$\\left \\{ x : \\frac{a}{2} + \\frac{c}{2}, \\quad y : \\frac{a}{2} - \\frac{c}{2}\\right \\}$$"
            ],
            "text/plain": [
              "⎧   a   c     a   c⎫\n",
              "⎨x: ─ + ─, y: ─ - ─⎬\n",
              "⎩   2   2     2   2⎭"
            ]
          },
          "execution_count": 89,
          "metadata": {},
          "output_type": "execute_result"
        }
      ],
      "source": [
        "solve([x + y - a, x - y - c], [x,y])"
      ]
    },
    {
      "cell_type": "markdown",
      "metadata": {
        "id": "rduPcBEvOnw8"
      },
      "source": [
        "## Further reading"
      ]
    },
    {
      "cell_type": "markdown",
      "metadata": {
        "id": "nYhXOyBCOnw8"
      },
      "source": [
        "* http://sympy.org/en/index.html - The SymPy projects web page.\n",
        "* https://github.com/sympy/sympy - The source code of SymPy.\n",
        "* http://live.sympy.org - Online version of SymPy for testing and demonstrations."
      ]
    },
    {
      "cell_type": "markdown",
      "metadata": {
        "id": "n12RmSKSOnw8"
      },
      "source": [
        "## Versions"
      ]
    },
    {
      "cell_type": "code",
      "execution_count": null,
      "metadata": {
        "id": "xFPSY_oDOnw8",
        "outputId": "ee724448-5e2a-44dc-b694-edb54573b7b1"
      },
      "outputs": [
        {
          "data": {
            "application/json": {
              "Software versions": [
                {
                  "module": "Python",
                  "version": "2.7.10 64bit [GCC 4.2.1 (Apple Inc. build 5577)]"
                },
                {
                  "module": "IPython",
                  "version": "3.2.1"
                },
                {
                  "module": "OS",
                  "version": "Darwin 14.1.0 x86_64 i386 64bit"
                },
                {
                  "module": "numpy",
                  "version": "1.9.2"
                },
                {
                  "module": "matplotlib",
                  "version": "1.4.3"
                },
                {
                  "module": "sympy",
                  "version": "0.7.6"
                }
              ]
            },
            "text/html": [
              "<table><tr><th>Software</th><th>Version</th></tr><tr><td>Python</td><td>2.7.10 64bit [GCC 4.2.1 (Apple Inc. build 5577)]</td></tr><tr><td>IPython</td><td>3.2.1</td></tr><tr><td>OS</td><td>Darwin 14.1.0 x86_64 i386 64bit</td></tr><tr><td>numpy</td><td>1.9.2</td></tr><tr><td>matplotlib</td><td>1.4.3</td></tr><tr><td>sympy</td><td>0.7.6</td></tr><tr><td colspan='2'>Sat Aug 15 11:37:37 2015 JST</td></tr></table>"
            ],
            "text/latex": [
              "\\begin{tabular}{|l|l|}\\hline\n",
              "{\\bf Software} & {\\bf Version} \\\\ \\hline\\hline\n",
              "Python & 2.7.10 64bit [GCC 4.2.1 (Apple Inc. build 5577)] \\\\ \\hline\n",
              "IPython & 3.2.1 \\\\ \\hline\n",
              "OS & Darwin 14.1.0 x86\\_64 i386 64bit \\\\ \\hline\n",
              "numpy & 1.9.2 \\\\ \\hline\n",
              "matplotlib & 1.4.3 \\\\ \\hline\n",
              "sympy & 0.7.6 \\\\ \\hline\n",
              "\\hline \\multicolumn{2}{|l|}{Sat Aug 15 11:37:37 2015 JST} \\\\ \\hline\n",
              "\\end{tabular}\n"
            ],
            "text/plain": [
              "Software versions\n",
              "Python 2.7.10 64bit [GCC 4.2.1 (Apple Inc. build 5577)]\n",
              "IPython 3.2.1\n",
              "OS Darwin 14.1.0 x86_64 i386 64bit\n",
              "numpy 1.9.2\n",
              "matplotlib 1.4.3\n",
              "sympy 0.7.6\n",
              "Sat Aug 15 11:37:37 2015 JST"
            ]
          },
          "execution_count": 90,
          "metadata": {},
          "output_type": "execute_result"
        }
      ],
      "source": [
        "%reload_ext version_information\n",
        "\n",
        "%version_information numpy, matplotlib, sympy"
      ]
    }
  ],
  "metadata": {
    "colab": {
      "provenance": []
    },
    "kernelspec": {
      "display_name": "scqubits-spc",
      "language": "python",
      "name": "python3"
    },
    "language_info": {
      "codemirror_mode": {
        "name": "ipython",
        "version": 3
      },
      "file_extension": ".py",
      "mimetype": "text/x-python",
      "name": "python",
      "nbconvert_exporter": "python",
      "pygments_lexer": "ipython3",
      "version": "3.11.7"
    }
  },
  "nbformat": 4,
  "nbformat_minor": 0
}
